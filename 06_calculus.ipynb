{
 "cells": [
  {
   "cell_type": "markdown",
   "metadata": {},
   "source": [
    "# 수치 미분"
   ]
  },
  {
   "cell_type": "code",
   "execution_count": 10,
   "metadata": {},
   "outputs": [],
   "source": [
    "import numpy as np"
   ]
  },
  {
   "cell_type": "markdown",
   "metadata": {},
   "source": [
    "### 1차원 함수의 수치 미분"
   ]
  },
  {
   "cell_type": "code",
   "execution_count": 2,
   "metadata": {},
   "outputs": [
    {
     "name": "stdout",
     "output_type": "stream",
     "text": [
      "6.0\n",
      "6.000009999951316\n",
      "5.999990000127297\n",
      "6.000000000039306\n"
     ]
    }
   ],
   "source": [
    "def f(x):\n",
    "    return x ** 2\n",
    "\n",
    "def analytical_d(x):\n",
    "    return 2 * x\n",
    "\n",
    "def num_d_foward(x, h=1e-5):\n",
    "    return (f(x + h) - f(x)) / h\n",
    "\n",
    "def num_d_backward(x, h=1e-5):\n",
    "    return (f(x) - f(x - h)) / h\n",
    "\n",
    "def num_d_central(x, h=1e-5):\n",
    "    return (f(x + h) - f(x - h)) / (2 * h)\n",
    "\n",
    "x = 3.0\n",
    "\n",
    "print(analytical_d(x))\n",
    "print(num_d_foward(x))\n",
    "print(num_d_backward(x))\n",
    "print(num_d_central(x))"
   ]
  },
  {
   "cell_type": "markdown",
   "metadata": {},
   "source": [
    "### 다변수 함수의 수치 미분"
   ]
  },
  {
   "cell_type": "code",
   "execution_count": 6,
   "metadata": {},
   "outputs": [
    {
     "data": {
      "text/plain": [
       "(6.000000000039306, 4.000000000026205)"
      ]
     },
     "execution_count": 6,
     "metadata": {},
     "output_type": "execute_result"
    }
   ],
   "source": [
    "# 편미분\n",
    "def partial_d(x, y):\n",
    "    return x ** 2 + y ** 2\n",
    "\n",
    "def partial_d(f, x, y, var='x', h=1e-5):\n",
    "    if var == 'x':\n",
    "        return (f(x + h) - f(x - h)) / (2 * h)\n",
    "    else:\n",
    "        return (f(y + h) - f(y - h)) / (2 * h)\n",
    "    \n",
    "partial_d(f, 3.0, 2.0, var='x'), partial_d(f, 3.0, 2.0, var='y')"
   ]
  },
  {
   "cell_type": "code",
   "execution_count": 19,
   "metadata": {},
   "outputs": [],
   "source": [
    "def f_multi(x):\n",
    "    return np.sum(x ** 2)\n",
    "\n",
    "def analytical_d_gradient(x):\n",
    "    return 2 * x\n",
    "\n",
    "def num_d_gradient(f, x, h=1e-5):\n",
    "    grad = np.zeros_like(x)\n",
    "    # for i in range(x.size):\n",
    "    #     grad[i] = (f(x + h) - f(x - h)) / (2 * h)\n",
    "    for i in range(len(x)):\n",
    "        grad[i] = (f(x[i] + h) - f(x[i] - h)) / (2 * h)\n",
    "    return grad\n",
    "    "
   ]
  },
  {
   "cell_type": "code",
   "execution_count": 20,
   "metadata": {},
   "outputs": [
    {
     "name": "stdout",
     "output_type": "stream",
     "text": [
      "[2. 4. 6.]\n",
      "[2. 4. 6.]\n"
     ]
    }
   ],
   "source": [
    "x = np.array([1.0, 2.0, 3.0])\n",
    "\n",
    "print(analytical_d_gradient(x))\n",
    "print(num_d_gradient(f_multi, x))"
   ]
  },
  {
   "cell_type": "markdown",
   "metadata": {},
   "source": [
    "### 간단한 신경망의 기울기"
   ]
  },
  {
   "cell_type": "code",
   "execution_count": 27,
   "metadata": {},
   "outputs": [
    {
     "name": "stdout",
     "output_type": "stream",
     "text": [
      "0th param 수치 기울기\n",
      "[[-2.12816501e-04  8.51266004e-05]\n",
      " [-1.47749525e-04  5.90998106e-05]\n",
      " [-1.16248258e-03  4.64993033e-04]]\n",
      "1th param 수치 기울기\n",
      "[-0.00042563 -0.0002955  -0.00232497]\n",
      "2th param 수치 기울기\n",
      "[[-0.00701437 -0.00388891 -0.006059  ]]\n",
      "3th param 수치 기울기\n",
      "[-0.00823075]\n"
     ]
    }
   ],
   "source": [
    "def sigmoid(z):\n",
    "    return 1 / (1 + np.exp(-z))\n",
    "\n",
    "def forward_pass(x, params):\n",
    "    w1, b1, w2, b2 = params\n",
    "    a1 = np.dot(w1, x) + b1\n",
    "    z1 = sigmoid(a1)\n",
    "    a2 = np.dot(w2, z1) + b2\n",
    "    z2 = sigmoid(a2)\n",
    "    return z2\n",
    "\n",
    "def loss(r2, y):\n",
    "    return 0.5 * np.sum((r2 - y) ** 2)\n",
    "\n",
    "def get_loss(params, x, y):\n",
    "    r2 = forward_pass(x, params)\n",
    "    return loss(r2, y)\n",
    "\n",
    "def num_d_gradient_params(f, params, x, y, h=1e-5):\n",
    "    # for param in params:\n",
    "    #     grad = np.zeros_like(param)\n",
    "    #     for i in range(len(param)):\n",
    "    #         param[i] += h\n",
    "    #         loss_plus = f(params, x, y)\n",
    "    #         param[i] -= 2 * h\n",
    "    #         loss_minus = f(params, x, y)\n",
    "    #         grad[i] = (loss_plus - loss_minus) / (2 * h)\n",
    "    #         param[i] += h\n",
    "    grads = []\n",
    "    for param in params:\n",
    "        grad = np.zeros_like(param)\n",
    "        iter = np.nditer(param, flags=['multi_index'], op_flags=['readwrite'])\n",
    "        \n",
    "        while not iter.finished:\n",
    "            idx = iter.multi_index\n",
    "            origin_val = param[idx]\n",
    "            param[idx] = origin_val + h\n",
    "            loss_plus = f(params, x, y)\n",
    "            param[idx] = origin_val - h\n",
    "            loss_minus = f(params, x, y)\n",
    "            grad[idx] = (loss_plus - loss_minus) / (2 * h)\n",
    "            param[idx] = origin_val\n",
    "            iter.iternext()\n",
    "        grads.append(grad)\n",
    "    return grads\n",
    "\n",
    "np.random.seed(0)\n",
    "input_size = 2\n",
    "hidden_size = 3\n",
    "output_size = 1\n",
    "\n",
    "W1 = np.random.randn(hidden_size, input_size)\n",
    "b1 = np.random.randn(hidden_size)\n",
    "W2 = np.random.randn(output_size, hidden_size)\n",
    "b2 = np.random.randn(output_size)\n",
    "\n",
    "params = [W1, b1, W2, b2]\n",
    "\n",
    "x = np.array([.5, -.2])\n",
    "y = np.array([1.0])\n",
    "\n",
    "num_grads = num_d_gradient_params(get_loss, params, x, y)\n",
    "num_grads\n",
    "for i, grad in enumerate(num_grads):\n",
    "    print(f'{i}th param 수치 기울기')\n",
    "    print(grad)"
   ]
  },
  {
   "cell_type": "markdown",
   "metadata": {},
   "source": [
    "### h 값에 따른 영향"
   ]
  },
  {
   "cell_type": "code",
   "execution_count": 28,
   "metadata": {},
   "outputs": [],
   "source": [
    "def f(x):\n",
    "    return x ** 2\n",
    "\n",
    "def analytical_d(x):\n",
    "    return 2 * x\n",
    "\n",
    "def num_d_central(x, h=1e-5):\n",
    "    return (f(x + h) - f(x - h)) / (2 * h)\n",
    "\n",
    "x = 3.0\n",
    "h_values = np.logspace(-10, -1, 50)\n",
    "errors = []\n",
    "\n",
    "trud_d = analytical_d(x)\n",
    "for h in h_values:\n",
    "    num_d = num_d_central(x, h)\n",
    "    error = np.abs(trud_d - num_d)\n",
    "    errors.append(error)"
   ]
  },
  {
   "cell_type": "code",
   "execution_count": 29,
   "metadata": {},
   "outputs": [
    {
     "data": {
      "image/png": "[encoded data removed]",
      "text/plain": [
       "<Figure size 500x300 with 1 Axes>"
      ]
     },
     "metadata": {},
     "output_type": "display_data"
    }
   ],
   "source": [
    "import matplotlib.pyplot as plt\n",
    "\n",
    "plt.figure(figsize=(5, 3))\n",
    "plt.loglog(h_values, errors, marker='o')\n",
    "plt.xlabel('h')\n",
    "plt.ylabel('Error')\n",
    "plt.grid(True)\n",
    "plt.show()"
   ]
  },
  {
   "cell_type": "markdown",
   "metadata": {},
   "source": [
    "### 자동 미분"
   ]
  },
  {
   "cell_type": "code",
   "execution_count": null,
   "metadata": {},
   "outputs": [],
   "source": [
    "import torch\n",
    "\n",
    "x = torch.tensor(3.0, requires_grad=True)\n",
    "y = f(x)\n",
    "y.backward()\n",
    "\n",
    "print(analytical_d(3.0))\n",
    "print(x.grad)"
   ]
  }
 ],
 "metadata": {
  "kernelspec": {
   "display_name": "pystudy_env",
   "language": "python",
   "name": "python3"
  },
  "language_info": {
   "codemirror_mode": {
    "name": "ipython",
    "version": 3
   },
   "file_extension": ".py",
   "mimetype": "text/x-python",
   "name": "python",
   "nbconvert_exporter": "python",
   "pygments_lexer": "ipython3",
   "version": "3.12.8"
  }
 },
 "nbformat": 4,
 "nbformat_minor": 2
}

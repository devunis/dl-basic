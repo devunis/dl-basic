{
 "cells": [
  {
   "cell_type": "markdown",
   "metadata": {},
   "source": [
    "# 다차원 텐서 (다차원 배열)"
   ]
  },
  {
   "cell_type": "code",
   "execution_count": 1,
   "metadata": {},
   "outputs": [],
   "source": [
    "import numpy as np"
   ]
  },
  {
   "cell_type": "markdown",
   "metadata": {},
   "source": [
    "### 다차원 배열의 계산 복습"
   ]
  },
  {
   "cell_type": "code",
   "execution_count": 4,
   "metadata": {},
   "outputs": [
    {
     "data": {
      "text/plain": [
       "(array([[ 8, 10, 12],\n",
       "        [14, 16, 18]]),\n",
       " array([[2, 4, 6],\n",
       "        [5, 7, 9]]))"
      ]
     },
     "execution_count": 4,
     "metadata": {},
     "output_type": "execute_result"
    }
   ],
   "source": [
    "A = np.array([[1, 2, 3], [4, 5, 6]])\n",
    "B = np.array([[7, 8, 9], [10, 11, 12]])\n",
    "\n",
    "add = A + B\n",
    "\n",
    "vec = np.array([1, 2, 3])\n",
    "\n",
    "add_vec = A + vec # 브로드캐스팅\n",
    "\n",
    "add, add_vec"
   ]
  },
  {
   "cell_type": "code",
   "execution_count": 6,
   "metadata": {},
   "outputs": [
    {
     "data": {
      "text/plain": [
       "array([[ 50,  68],\n",
       "       [122, 167]])"
      ]
     },
     "execution_count": 6,
     "metadata": {},
     "output_type": "execute_result"
    }
   ],
   "source": [
    "A.dot(B.T) # 행렬곱"
   ]
  },
  {
   "cell_type": "markdown",
   "metadata": {},
   "source": [
    "### 다차원 배열의 계산으로 순전파 구현"
   ]
  },
  {
   "cell_type": "code",
   "execution_count": 15,
   "metadata": {},
   "outputs": [
    {
     "data": {
      "text/plain": [
       "array([[0.        , 0.        , 1.46420796],\n",
       "       [0.        , 1.81999602, 0.10710412],\n",
       "       [0.        , 2.01724921, 1.9791856 ],\n",
       "       [0.03872054, 0.        , 0.14704677]])"
      ]
     },
     "execution_count": 15,
     "metadata": {},
     "output_type": "execute_result"
    }
   ],
   "source": [
    "# 입력 데이터\n",
    "X = np.random.randn(4, 5) # 4개의 샘플, 5차원 feature\n",
    "\n",
    "# 가중치\n",
    "W = np.random.randn(5, 3) # 5개의 입력(feature), 3개의 뉴런으로 구성된 레이어\n",
    "\n",
    "# 편향\n",
    "b = np.random.randn(1, 3)\n",
    "\n",
    "# 선형 계산 (W * X + b)\n",
    "z = np.dot(X, W) + b\n",
    "\n",
    "# ReLU 활성화 함수\n",
    "result = np.maximum(z, 0)\n",
    "\n",
    "result"
   ]
  },
  {
   "cell_type": "markdown",
   "metadata": {},
   "source": [
    "# 다층 퍼셉트론"
   ]
  },
  {
   "cell_type": "code",
   "execution_count": 30,
   "metadata": {},
   "outputs": [
    {
     "data": {
      "text/plain": [
       "array([[2.73482123e-01, 3.43395167e-01, 3.34270561e-03, 9.46665882e-02],\n",
       "       [6.05142987e-02, 3.97767769e-02, 6.94692277e-04, 1.52294255e-01],\n",
       "       [9.55969619e-02, 3.76308205e-01, 1.47066209e-04, 2.54742497e-02],\n",
       "       [9.28744036e-02, 2.93034016e-04, 9.73106286e-01, 7.18699850e-02],\n",
       "       [1.27467100e-01, 1.97550407e-02, 2.26157769e-02, 5.05328462e-01],\n",
       "       [3.50065113e-01, 2.20471776e-01, 9.34726088e-05, 1.50366460e-01]])"
      ]
     },
     "execution_count": 30,
     "metadata": {},
     "output_type": "execute_result"
    }
   ],
   "source": [
    "def softmax(z):\n",
    "    # e_z = np.exp(z - np.max(z))\n",
    "    # return e_z / e_z.sum(axis=0)\n",
    "    exp_z = np.exp(z - np.max(z, axis=1, keepdims=True))\n",
    "    return exp_z / np.sum(exp_z, axis=1, keepdims=True)\n",
    "\n",
    "X = np.random.randn(6, 10) # 6개의 샘플, 10차원 feature\n",
    "\n",
    "# 은닉층 : 10개의 입력 -> 8개의 뉴런\n",
    "W1 = np.random.randn(10, 8)\n",
    "b1 = np.random.randn(1, 8)\n",
    "\n",
    "# 출력층 : 8개의 입력 -> 4개의 클래스\n",
    "W2 = np.random.randn(8, 4)\n",
    "b2 = np.random.randn(1, 4)\n",
    "\n",
    "# 은닉층 계산 (선형 계산 + tanh 활성화 함수)\n",
    "z1 = np.dot(X, W1) + b1\n",
    "result = np.tanh(z1)\n",
    "\n",
    "# 출력층 계산 (선형 계산 + softmax 활성화 함수)\n",
    "z2 = np.dot(result, W2) + b2\n",
    "result = softmax(z2)\n",
    "\n",
    "result"
   ]
  },
  {
   "cell_type": "markdown",
   "metadata": {},
   "source": [
    "# 이미지 데이터 예시"
   ]
  },
  {
   "cell_type": "code",
   "execution_count": 57,
   "metadata": {},
   "outputs": [
    {
     "data": {
      "image/png": "[encoded data removed]",
      "text/plain": [
       "<Figure size 640x480 with 3 Axes>"
      ]
     },
     "metadata": {},
     "output_type": "display_data"
    }
   ],
   "source": [
    "import matplotlib.pyplot as plt\n",
    "\n",
    "batch_size = 5 # 샘플의 개수\n",
    "channels = 3 # RGB\n",
    "height = 32 # 이미지 높이\n",
    "width = 32 # 이미지 너비\n",
    "\n",
    "images = np.random.rand(batch_size, channels, height, width)\n",
    "\n",
    "bright_images = np.clip(images + .2, 0, 1) # 0.2를 더하지만 0과 1 사이의 값으로 클리핑\n",
    "\n",
    "gray_image = np.mean(images, axis=1)\n",
    "\n",
    "# PyTorch의 경우 이미지 데이터를 (채널 수, 높이, 너비) 순서로 저장\n",
    "# 따라서 matploylib.pyploy.imshow()를 사용하여 이미지를 시각화하기 위해서는 (높이, 너비, 채널 수) 순서로 변경해야 함\n",
    "# 이때 np.transpose() 함수를 사용하여 축 순서를 변경할 수 있음\n",
    "images_for_display = images[0].transpose(1, 2, 0)\n",
    "bright_images_for_display = bright_images[0].transpose(1, 2, 0)\n",
    "\n",
    "plt.subplot(1, 3, 1)\n",
    "plt.imshow(images_for_display)\n",
    "plt.axis('off')\n",
    "\n",
    "\n",
    "plt.subplot(1, 3, 2)\n",
    "plt.imshow(bright_images_for_display)\n",
    "plt.axis('off')\n",
    "gray_image_for_display = gray_image[0]\n",
    "\n",
    "plt.subplot(1, 3, 3)\n",
    "plt.imshow(gray_image_for_display, cmap='gray')\n",
    "plt.axis('off')\n",
    "\n",
    "plt.show()"
   ]
  }
 ],
 "metadata": {
  "kernelspec": {
   "display_name": "pystudy_env",
   "language": "python",
   "name": "python3"
  },
  "language_info": {
   "codemirror_mode": {
    "name": "ipython",
    "version": 3
   },
   "file_extension": ".py",
   "mimetype": "text/x-python",
   "name": "python",
   "nbconvert_exporter": "python",
   "pygments_lexer": "ipython3",
   "version": "3.12.8"
  }
 },
 "nbformat": 4,
 "nbformat_minor": 2
}
